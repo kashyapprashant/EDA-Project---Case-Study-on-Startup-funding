{
 "cells": [
  {
   "cell_type": "markdown",
   "metadata": {},
   "source": [
    "# Case Study : Questions\n",
    "\n",
    "**1. Your Friend has developed the Product and he wants to establish the product startup and he is searching for a perfect location where getting the investment has a high chance. But due to its financial restriction, he can choose only between three locations -  Bangalore, Mumbai, and NCR. As a friend, you want to help your friend deciding the location. NCR include Gurgaon, Noida and New Delhi. Find the location where the most number of funding is done. That means, find the location where startups has received funding maximum number of times. Plot the bar graph between location and number of funding. Take city name \"Delhi\" as \"New Delhi\". Check the case-sensitiveness of cities also. That means, at some place instead of \"Bangalore\", \"bangalore\" is given. Take city name as \"Bangalore\". For few startups multiple locations are given, one Indian and one Foreign. Consider the startup if any one of the city lies in given locations.**\n",
    "\n",
    "\n",
    "**2. Even after trying for so many times, your friend’s startup could not find the investment. So you decided to take this matter in your hand and try to find the list of investors who probably can invest in your friend’s startup. Your list will increase the chance of your friend startup getting some initial investment by contacting these investors. Find the top 5 investors who have invested maximum number of times (consider repeat investments in one company also). In a startup, multiple investors might have invested. So consider each investor for that startup. Ignore undisclosed investors.**\n",
    "\n",
    "\n",
    "**3. After re-analysing the dataset you found out that some investors have invested in the same startup at different number of funding rounds. So before finalising the previous list, you want to improvise it by finding the top 5 investors who have invested in different number of startups. This list will be more helpful than your previous list in finding the investment for your friend startup. Find the top 5 investors who have invested maximum number of times in different companies. That means, if one investor has invested multiple times in one startup, count one for that company. There are many errors in startup names. Ignore correcting all, just handle the important ones - Ola, Flipkart, Oyo and Paytm.**\n",
    "\n",
    "\n",
    "**4. Even after putting so much effort in finding the probable investors, it didn't turn out to be helpful for your friend. So you went to your investor friend to understand the situation better and your investor friend explained to you about the different Investment Types and their features. This new information will be helpful in finding the right investor. Since your friend startup is at an early stage startup, the best-suited investment type would be - Seed Funding and Crowdfunding. Find the top 5 investors who have invested in a different number of startups and their investment type is Crowdfunding or Seed Funding. Correct spelling of investment types are - \"Private Equity\", \"Seed Funding\", \"Debt Funding\", and \"Crowd Funding\". Keep an eye for any spelling mistake. You can find this by printing unique values from this column. There are many errors in startup names. Ignore correcting all, just handle the important ones - Ola, Flipkart, Oyo and Paytm.**\n",
    "\n",
    "\n",
    "**5. Due to your immense help, your friend startup successfully got seed funding and it is on the operational mode. Now your friend wants to expand his startup and he is looking for new investors for his startup. Now you again come as a saviour to help your friend and want to create a list of probable new new investors. Before moving forward you remember your investor friend advice that finding the investors by analysing the investment type. Since your friend startup is not in early phase it is in growth stage so the best-suited investment type is Private Equity. Find the top 5 investors who have invested in a different number of startups and their investment type is Private Equity. Correct spelling of investment types are - \"Private Equity\", \"Seed Funding\", \"Debt Funding\", and \"Crowd Funding\". Keep an eye for any spelling mistake. You can find this by printing unique values from this column. There are many errors in startup names. Ignore correcting all, just handle the important ones - Ola, Flipkart, Oyo and Paytm.**"
   ]
  },
  {
   "cell_type": "code",
   "execution_count": 1,
   "metadata": {},
   "outputs": [],
   "source": [
    "import matplotlib.pyplot as plt\n",
    "import numpy as np\n",
    "import pandas as pd"
   ]
  },
  {
   "cell_type": "code",
   "execution_count": 2,
   "metadata": {},
   "outputs": [],
   "source": [
    "data=pd.read_csv(\"startup_funding.csv\",encoding='utf-8')"
   ]
  },
  {
   "cell_type": "markdown",
   "metadata": {},
   "source": [
    "# ANSWER - 1"
   ]
  },
  {
   "cell_type": "code",
   "execution_count": 3,
   "metadata": {},
   "outputs": [
    {
     "name": "stdout",
     "output_type": "stream",
     "text": [
      "Bangalore 635\n",
      "Mumbai 449\n",
      "New Delhi 389\n",
      "Gurgaon 241\n",
      "Noida 79\n"
     ]
    }
   ],
   "source": [
    "# copy data in a different variable, so that data does not alter\n",
    "data_file=data.copy()\n",
    "\n",
    "# drop that rows where \"CityLocation\" has nan values\n",
    "index=data_file[data_file[\"CityLocation\"].isna()].index\n",
    "data_file.drop(index,inplace=True)\n",
    "\n",
    "# seperate the city where multiple location had given\n",
    "def seperatecity(city):\n",
    "    return city.split('/')[0].strip()\n",
    "data_file[\"CityLocation\"]=data_file[\"CityLocation\"].apply(seperatecity)\n",
    "\n",
    "# replace the 'Delhi' in 'New Delhi' and 'bangalore' in 'Bangalore'\n",
    "data_file[\"CityLocation\"].replace('Delhi','New Delhi',inplace=True)\n",
    "data_file[\"CityLocation\"].replace('bangalore','Bangalore',inplace=True)\n",
    "\n",
    "# select the data where city location is as given in question and count how many time cities \n",
    "# recieved fund and store in city_data\n",
    "city_data=data_file[(data_file[\"CityLocation\"]==\"Bangalore\") | \n",
    "                    (data_file[\"CityLocation\"]==\"Mumbai\") |\n",
    "                    (data_file[\"CityLocation\"]==\"New Delhi\") |\n",
    "                    (data_file[\"CityLocation\"]==\"Gurgaon\") |\n",
    "                    (data_file[\"CityLocation\"]==\"Noida\")][\"CityLocation\"].value_counts()\n",
    "\n",
    "# from city_data name of cities store in city_name and funding counts of cities store in city_funding_count\n",
    "city_name=city_data.index\n",
    "city_funding_count=city_data.values\n",
    "\n",
    "# print city_name and funding_count\n",
    "for i in range(len(city_name)):\n",
    "    print(city_name[i],city_funding_count[i])"
   ]
  },
  {
   "cell_type": "code",
   "execution_count": 4,
   "metadata": {},
   "outputs": [
    {
     "data": {
      "image/png": "[encoded data removed]",
      "text/plain": [
       "<Figure size 432x288 with 1 Axes>"
      ]
     },
     "metadata": {
      "needs_background": "light"
     },
     "output_type": "display_data"
    }
   ],
   "source": [
    "# plot a bar graph between city names and how many time they received fund\n",
    "plt.bar(city_name,city_funding_count,edgecolor=\"black\")\n",
    "plt.show()"
   ]
  },
  {
   "cell_type": "markdown",
   "metadata": {},
   "source": [
    "# ANSWER - 2"
   ]
  },
  {
   "cell_type": "code",
   "execution_count": 5,
   "metadata": {},
   "outputs": [
    {
     "name": "stdout",
     "output_type": "stream",
     "text": [
      "Sequoia Capital 64\n",
      "Accel Partners 53\n",
      "Kalaari Capital 44\n",
      "SAIF Partners 41\n",
      "Indian Angel Network 40\n"
     ]
    }
   ],
   "source": [
    "# copy data in a different variable, so that data does not alter\n",
    "data_file = data.copy()\n",
    "\n",
    "# drop that rows where \"InvestorsName\" has nan values\n",
    "index=data_file[data_file[\"InvestorsName\"].isna()].index\n",
    "data_file.drop(index,inplace=True)\n",
    "\n",
    "# count the how many time which investor invest and store in dictionary investor_count\n",
    "def investors_names(arr):\n",
    "    d={}\n",
    "    for i in arr:\n",
    "        if ',' not in i:\n",
    "            d[i]=d.get(i,0)+1\n",
    "        else:\n",
    "            string=i.strip().split(',')\n",
    "            for j in string:\n",
    "                d[j.strip()]=d.get(j.strip(),0)+1\n",
    "    return d\n",
    "investor_count=investors_names(data_file['InvestorsName'])\n",
    "\n",
    "# construct a dataframe from investor_count and store in investor_names_count\n",
    "investor_names_count=pd.DataFrame(list(investor_count.values()),list(investor_count.keys()))\n",
    "\n",
    "# sort values of investor_names_count in ascending order\n",
    "investor_names_count=investor_names_count.sort_values(by=0,ascending=False)\n",
    "\n",
    "# print top 5 investors\n",
    "for i in range(5):\n",
    "    print(investor_names_count.index[i],investor_names_count.values[i][0])"
   ]
  },
  {
   "cell_type": "code",
   "execution_count": 6,
   "metadata": {},
   "outputs": [
    {
     "data": {
      "image/png": "[encoded data removed]",
      "text/plain": [
       "<Figure size 432x288 with 1 Axes>"
      ]
     },
     "metadata": {
      "needs_background": "light"
     },
     "output_type": "display_data"
    }
   ],
   "source": [
    "# plot a bar graph between top 5 Investors names and how many times they invest in startups\n",
    "index=investor_names_count.index[0:5]\n",
    "values=[]\n",
    "for i in range(5):\n",
    "    values.append(investor_names_count.values[i][0])\n",
    "plt.bar(index,values,edgecolor=\"black\")\n",
    "plt.xticks(rotation=30)\n",
    "plt.show()"
   ]
  },
  {
   "cell_type": "markdown",
   "metadata": {},
   "source": [
    "# ANSWER - 3"
   ]
  },
  {
   "cell_type": "code",
   "execution_count": 7,
   "metadata": {},
   "outputs": [
    {
     "name": "stdout",
     "output_type": "stream",
     "text": [
      "Sequoia Capital 48\n",
      "Accel Partners 47\n",
      "Kalaari Capital 41\n",
      "Indian Angel Network 40\n",
      "Blume Ventures 36\n"
     ]
    }
   ],
   "source": [
    "# copy data in a different variable, so that data does not alter\n",
    "data_file=data.copy()\n",
    "\n",
    "# drop that rows where \"InvestorsName\" has nan values ans then reset the index\n",
    "index=data_file[data_file[\"InvestorsName\"].isna()].index\n",
    "data_file.drop(index,inplace=True)\n",
    "data_file=data_file.reset_index(drop=True)\n",
    "\n",
    "# Correcting the errors in startup names of important startups Ola,Oyo,Flipkart,Paytm\n",
    "# by replace the error name with correct name\n",
    "data_file['StartupName'].replace('Ola Cabs','Ola',inplace=True)\n",
    "data_file['StartupName'].replace('Olacabs','Ola',inplace=True)\n",
    "data_file['StartupName'].replace('Oyo Rooms','Oyo',inplace=True)\n",
    "data_file['StartupName'].replace('OYO Rooms','Oyo',inplace=True)\n",
    "data_file['StartupName'].replace('OyoRooms','Oyo',inplace=True)\n",
    "data_file['StartupName'].replace('Oyorooms','Oyo',inplace=True)\n",
    "data_file['StartupName'].replace('Flipkart.com','Flipkart',inplace=True)\n",
    "data_file['StartupName'].replace('Paytm Marketplace','Paytm',inplace=True)\n",
    "\n",
    "# Count the how many times investors invest in different companies\n",
    "def investor_startup(arr1,arr2):\n",
    "    d={}\n",
    "    l=[]\n",
    "    for i in range(len(arr1)):\n",
    "        if ',' not in arr1[i]:\n",
    "            if (arr1[i],arr2[i]) not in l:\n",
    "                d[arr1[i]]=d.get(arr1[i],0)+1\n",
    "                l.append((arr1[i],arr2[i]))\n",
    "        else:\n",
    "            string=arr1[i].strip().split(',')\n",
    "            for j in string:\n",
    "                if (j.strip(),arr2[i]) not in l and j.strip()!='':\n",
    "                    d[j.strip()]=d.get(j.strip(),0)+1\n",
    "                    l.append((j.strip(),arr2[i]))\n",
    "    return d\n",
    "investor_startup_count=investor_startup(data_file['InvestorsName'],data_file[\"StartupName\"])\n",
    "\n",
    "# Construct a Dataframe of keys and values of invester_startups_count and store in 'df'\n",
    "df=pd.DataFrame(list(investor_startup_count.values()),list(investor_startup_count.keys()))\n",
    "\n",
    "# Sort value of investors in descending order and store in 'top_investors'\n",
    "top_investors=df.sort_values(by=0,ascending=False)\n",
    "\n",
    "# print top 5 investors\n",
    "for i in range(5):\n",
    "    print(top_investors.index[i],top_investors.values[i][0])"
   ]
  },
  {
   "cell_type": "code",
   "execution_count": 8,
   "metadata": {},
   "outputs": [
    {
     "data": {
      "image/png": "[encoded data removed]",
      "text/plain": [
       "<Figure size 432x288 with 1 Axes>"
      ]
     },
     "metadata": {
      "needs_background": "light"
     },
     "output_type": "display_data"
    }
   ],
   "source": [
    "# plot a bar graph between top 5 Investors names and how many times they invest in \n",
    "# different startups\n",
    "index=top_investors.index[0:5]\n",
    "values=[]\n",
    "for i in range(5):\n",
    "    values.append(top_investors.values[i][0])\n",
    "plt.bar(index,values,edgecolor=\"black\")\n",
    "plt.xticks(rotation=30)\n",
    "plt.show()"
   ]
  },
  {
   "cell_type": "markdown",
   "metadata": {},
   "source": [
    "# ANSWER - 4"
   ]
  },
  {
   "cell_type": "code",
   "execution_count": 9,
   "metadata": {},
   "outputs": [
    {
     "name": "stdout",
     "output_type": "stream",
     "text": [
      "Indian Angel Network 33\n",
      "Rajan Anandan 23\n",
      "LetsVenture 16\n",
      "Anupam Mittal 16\n",
      "Group of Angel Investors 14\n"
     ]
    }
   ],
   "source": [
    "# copy data in a different variable, so that data does not alter\n",
    "data_file=data.copy()\n",
    "\n",
    "# Correcting the errors in 'InvestmentType' \n",
    "data_file['InvestmentType'].replace('PrivateEquity','Private Equity',inplace=True)\n",
    "data_file['InvestmentType'].replace('SeedFunding','Seed Funding',inplace=True)\n",
    "data_file['InvestmentType'].replace('Crowd funding','Crowd Funding',inplace=True)\n",
    "\n",
    "# Correcting the errors in startup names of important startups Ola,Oyo,Flipkart,Paytm\n",
    "# by replace the error name with correct name\n",
    "data_file['StartupName'].replace('Ola Cabs','Ola',inplace=True)\n",
    "data_file['StartupName'].replace('Olacabs','Ola',inplace=True)\n",
    "data_file['StartupName'].replace('Oyo Rooms','Oyo',inplace=True)\n",
    "data_file['StartupName'].replace('OYO Rooms','Oyo',inplace=True)\n",
    "data_file['StartupName'].replace('OyoRooms','Oyo',inplace=True)\n",
    "data_file['StartupName'].replace('Oyorooms','Oyo',inplace=True)\n",
    "data_file['StartupName'].replace('Flipkart.com','Flipkart',inplace=True)\n",
    "data_file['StartupName'].replace('Paytm Marketplace','Paytm',inplace=True)\n",
    "\n",
    "# drop that rows where \"InvestorsName\" have nan values or undisclosed investors.\n",
    "# or \"InvestmentType\" has nan values\n",
    "index=data_file[(data_file[\"InvestorsName\"].isna()) \n",
    "               | (data_file[\"InvestmentType\"].isna())\n",
    "               |(data_file[\"InvestorsName\"]==\"Undisclosed Investors\")\n",
    "               |(data_file[\"InvestorsName\"]==\"Undisclosed investors\")].index\n",
    "data_file.drop(index,inplace=True)\n",
    "\n",
    "# select that row where \"InvestmentType\" is crowd Funding or Seed Funding\n",
    "data_file=data_file[(data_file[\"InvestmentType\"]==\"Crowd Funding\") \n",
    "                    | (data_file[\"InvestmentType\"]==\"Seed Funding\")]\n",
    "\n",
    "# Reset the index\n",
    "data_file=data_file.reset_index(drop=True)\n",
    "\n",
    "# Count the how many times investors invest in different companies\n",
    "def investor_startup(arr1,arr2):\n",
    "    d={}\n",
    "    l=[]\n",
    "    for i in range(len(arr1)):\n",
    "        if ',' not in arr1[i]:\n",
    "            if (arr1[i],arr2[i]) not in l:\n",
    "                d[arr1[i]]=d.get(arr1[i],0)+1\n",
    "                l.append((arr1[i],arr2[i]))\n",
    "        else:\n",
    "            string=arr1[i].strip().split(',')\n",
    "            for j in string:\n",
    "                if (j.strip(),arr2[i]) not in l and j.strip()!='':\n",
    "                    d[j.strip()]=d.get(j.strip(),0)+1\n",
    "                    l.append((j.strip(),arr2[i]))\n",
    "    return d\n",
    "investor_startup_count=investor_startup(data_file['InvestorsName'],data_file[\"StartupName\"])\n",
    "\n",
    "# Construct a Dataframe of keys and values of invester_startups_count and store in 'df'\n",
    "df=pd.DataFrame(list(investor_startup_count.values()),list(investor_startup_count.keys()))\n",
    "\n",
    "# Sort value of investors in descending order and store in 'top_investors'\n",
    "top_investors=df.sort_values(by=0,ascending=False)\n",
    "\n",
    "# print top 5 investors and how many times they invest\n",
    "for i in range(5):\n",
    "    print(top_investors.index[i],top_investors.values[i][0])"
   ]
  },
  {
   "cell_type": "code",
   "execution_count": 10,
   "metadata": {},
   "outputs": [
    {
     "data": {
      "image/png": "[encoded data removed]",
      "text/plain": [
       "<Figure size 432x288 with 1 Axes>"
      ]
     },
     "metadata": {
      "needs_background": "light"
     },
     "output_type": "display_data"
    }
   ],
   "source": [
    "# plot a bar graph between top 5 Investors names and how many times they invest in \n",
    "# different startups where Investment Type is Crowd funding or Seed Funding\n",
    "index=top_investors.index[0:5]\n",
    "values=[]\n",
    "for i in range(5):\n",
    "    values.append(top_investors.values[i][0])\n",
    "plt.bar(index,values)\n",
    "plt.xticks(rotation=30)\n",
    "plt.show()"
   ]
  },
  {
   "cell_type": "markdown",
   "metadata": {},
   "source": [
    "# ANSWER - 5"
   ]
  },
  {
   "cell_type": "code",
   "execution_count": 11,
   "metadata": {},
   "outputs": [
    {
     "name": "stdout",
     "output_type": "stream",
     "text": [
      "Sequoia Capital 45\n",
      "Accel Partners 43\n",
      "Kalaari Capital 35\n",
      "Blume Ventures 27\n",
      "SAIF Partners 24\n"
     ]
    }
   ],
   "source": [
    "# copy data in a different variable, so that data does not alter\n",
    "data_file=data.copy()\n",
    "\n",
    "# Correcting the errors in 'InvestmentType' \n",
    "data_file['InvestmentType'].replace('PrivateEquity','Private Equity',inplace=True)\n",
    "data_file['InvestmentType'].replace('SeedFunding','Seed Funding',inplace=True)\n",
    "data_file['InvestmentType'].replace('Crowd funding','Crowd Funding',inplace=True)\n",
    "\n",
    "# Correcting the errors in startup names of important startups Ola,Oyo,Flipkart,Paytm\n",
    "# by replace the error name with correct name\n",
    "data_file['StartupName'].replace('Ola Cabs','Ola',inplace=True)\n",
    "data_file['StartupName'].replace('Olacabs','Ola',inplace=True)\n",
    "data_file['StartupName'].replace('Oyo Rooms','Oyo',inplace=True)\n",
    "data_file['StartupName'].replace('OYO Rooms','Oyo',inplace=True)\n",
    "data_file['StartupName'].replace('OyoRooms','Oyo',inplace=True)\n",
    "data_file['StartupName'].replace('Oyorooms','Oyo',inplace=True)\n",
    "data_file['StartupName'].replace('Flipkart.com','Flipkart',inplace=True)\n",
    "data_file['StartupName'].replace('Paytm Marketplace','Paytm',inplace=True)\n",
    "\n",
    "# drop that rows where \"InvestorsName\" have nan values or undisclosed investors.\n",
    "# or \"InvestmentType\" has nan values\n",
    "index=data_file[(data_file[\"InvestorsName\"].isna()) \n",
    "               | (data_file[\"InvestmentType\"].isna())\n",
    "               |(data_file[\"InvestorsName\"]==\"Undisclosed Investors\")\n",
    "               |(data_file[\"InvestorsName\"]==\"Undisclosed investors\")].index\n",
    "data_file.drop(index,inplace=True)\n",
    "\n",
    "# select that row where \"InvestmentType\" is Private Equity\n",
    "data_file=data_file[(data_file[\"InvestmentType\"]==\"Private Equity\") ]\n",
    "\n",
    "# Reset the index\n",
    "data_file=data_file.reset_index(drop=True)\n",
    "\n",
    "# Count the how many times investors invest in different companies\n",
    "def investor_startup(arr1,arr2):\n",
    "    d={}\n",
    "    l=[]\n",
    "    for i in range(len(arr1)):\n",
    "        if ',' not in arr1[i]:\n",
    "            if (arr1[i],arr2[i]) not in l:\n",
    "                d[arr1[i]]=d.get(arr1[i],0)+1\n",
    "                l.append((arr1[i],arr2[i]))\n",
    "        else:\n",
    "            string=arr1[i].strip().split(',')\n",
    "            for j in string:\n",
    "                if (j.strip(),arr2[i]) not in l and j.strip()!='':\n",
    "                    d[j.strip()]=d.get(j.strip(),0)+1\n",
    "                    l.append((j.strip(),arr2[i]))\n",
    "    return d\n",
    "investor_startup_count=investor_startup(data_file['InvestorsName'],data_file[\"StartupName\"])\n",
    "\n",
    "# Construct a Dataframe of keys and values of invester_startups_count and store in 'df'\n",
    "df=pd.DataFrame(list(investor_startup_count.values()),list(investor_startup_count.keys()))\n",
    "\n",
    "# Sort value of investors in descending order and store in 'top_investors'\n",
    "top_investors=df.sort_values(by=0,ascending=False)\n",
    "\n",
    "# print top 5 investors and how many times they invest\n",
    "for i in range(5):\n",
    "    print(top_investors.index[i],top_investors.values[i][0])"
   ]
  },
  {
   "cell_type": "code",
   "execution_count": 12,
   "metadata": {},
   "outputs": [
    {
     "data": {
      "image/png": "[encoded data removed]",
      "text/plain": [
       "<Figure size 432x288 with 1 Axes>"
      ]
     },
     "metadata": {
      "needs_background": "light"
     },
     "output_type": "display_data"
    }
   ],
   "source": [
    "# plot a bar graph between top 5 Investors names and how many times they invest in \n",
    "# different startups where Investment Type is Private Equity\n",
    "index=top_investors.index[0:5]\n",
    "values=[]\n",
    "for i in range(5):\n",
    "    values.append(top_investors.values[i][0])\n",
    "plt.bar(index,values)\n",
    "plt.xticks(rotation=30)\n",
    "plt.show()"
   ]
  }
 ],
 "metadata": {
  "kernelspec": {
   "display_name": "Python 3",
   "language": "python",
   "name": "python3"
  },
  "language_info": {
   "codemirror_mode": {
    "name": "ipython",
    "version": 3
   },
   "file_extension": ".py",
   "mimetype": "text/x-python",
   "name": "python",
   "nbconvert_exporter": "python",
   "pygments_lexer": "ipython3",
   "version": "3.8.5"
  }
 },
 "nbformat": 4,
 "nbformat_minor": 4
}
